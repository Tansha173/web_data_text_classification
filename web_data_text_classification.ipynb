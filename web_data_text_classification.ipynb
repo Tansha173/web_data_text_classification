{
 "cells": [
  {
   "cell_type": "code",
   "execution_count": 1,
   "id": "1211f51b",
   "metadata": {},
   "outputs": [],
   "source": [
    "import pandas as pd\n",
    "import numpy as np\n",
    "import matplotlib.pyplot as plt\n",
    "import seaborn as sns\n",
    "import re\n",
    "import pickle\n",
    "from string import punctuation\n",
    "from nltk.corpus import stopwords\n",
    "from sklearn.preprocessing import LabelEncoder\n",
    "from sklearn.model_selection import train_test_split\n",
    "import torch\n",
    "import torchvision\n",
    "import spacy\n",
    "import torch.nn as nn\n",
    "from collections import Counter\n",
    "from torch.utils.data import Dataset, DataLoader\n",
    "import torch.nn.functional as F\n",
    "import string"
   ]
  },
  {
   "cell_type": "code",
   "execution_count": 2,
   "id": "3cce7c6f",
   "metadata": {},
   "outputs": [],
   "source": [
    "data = pd.read_json('raw_data.json')"
   ]
  },
  {
   "cell_type": "code",
   "execution_count": 3,
   "id": "ee6b3323",
   "metadata": {},
   "outputs": [
    {
     "data": {
      "text/html": [
       "<div>\n",
       "<style scoped>\n",
       "    .dataframe tbody tr th:only-of-type {\n",
       "        vertical-align: middle;\n",
       "    }\n",
       "\n",
       "    .dataframe tbody tr th {\n",
       "        vertical-align: top;\n",
       "    }\n",
       "\n",
       "    .dataframe thead th {\n",
       "        text-align: right;\n",
       "    }\n",
       "</style>\n",
       "<table border=\"1\" class=\"dataframe\">\n",
       "  <thead>\n",
       "    <tr style=\"text-align: right;\">\n",
       "      <th></th>\n",
       "      <th>brand_id</th>\n",
       "      <th>raw_text</th>\n",
       "    </tr>\n",
       "  </thead>\n",
       "  <tbody>\n",
       "    <tr>\n",
       "      <th>0</th>\n",
       "      <td>unknown</td>\n",
       "      <td>CPL  Loading Done  OK Trading Perpetual Spot T...</td>\n",
       "    </tr>\n",
       "    <tr>\n",
       "      <th>1</th>\n",
       "      <td>roblox</td>\n",
       "      <td>BloxFarm - Earn Your Robux Today!  Login to Bl...</td>\n",
       "    </tr>\n",
       "  </tbody>\n",
       "</table>\n",
       "</div>"
      ],
      "text/plain": [
       "  brand_id                                           raw_text\n",
       "0  unknown  CPL  Loading Done  OK Trading Perpetual Spot T...\n",
       "1   roblox  BloxFarm - Earn Your Robux Today!  Login to Bl..."
      ]
     },
     "execution_count": 3,
     "metadata": {},
     "output_type": "execute_result"
    }
   ],
   "source": [
    "data.head(2)"
   ]
  },
  {
   "cell_type": "code",
   "execution_count": 4,
   "id": "1cafb10e",
   "metadata": {},
   "outputs": [
    {
     "data": {
      "text/plain": [
       "(76069, 2)"
      ]
     },
     "execution_count": 4,
     "metadata": {},
     "output_type": "execute_result"
    }
   ],
   "source": [
    "data.shape"
   ]
  },
  {
   "cell_type": "code",
   "execution_count": 5,
   "id": "cd7f6e8a",
   "metadata": {},
   "outputs": [
    {
     "name": "stdout",
     "output_type": "stream",
     "text": [
      "<class 'pandas.core.frame.DataFrame'>\n",
      "RangeIndex: 76069 entries, 0 to 76068\n",
      "Data columns (total 2 columns):\n",
      " #   Column    Non-Null Count  Dtype \n",
      "---  ------    --------------  ----- \n",
      " 0   brand_id  76069 non-null  object\n",
      " 1   raw_text  76069 non-null  object\n",
      "dtypes: object(2)\n",
      "memory usage: 1.2+ MB\n"
     ]
    }
   ],
   "source": [
    "data.info()"
   ]
  },
  {
   "cell_type": "code",
   "execution_count": 6,
   "id": "cd2d0e71",
   "metadata": {},
   "outputs": [
    {
     "data": {
      "text/plain": [
       "brand_id    0\n",
       "raw_text    0\n",
       "dtype: int64"
      ]
     },
     "execution_count": 6,
     "metadata": {},
     "output_type": "execute_result"
    }
   ],
   "source": [
    "data.isnull().sum()"
   ]
  },
  {
   "cell_type": "code",
   "execution_count": 7,
   "id": "1f81ecb8",
   "metadata": {},
   "outputs": [
    {
     "data": {
      "text/html": [
       "<div>\n",
       "<style scoped>\n",
       "    .dataframe tbody tr th:only-of-type {\n",
       "        vertical-align: middle;\n",
       "    }\n",
       "\n",
       "    .dataframe tbody tr th {\n",
       "        vertical-align: top;\n",
       "    }\n",
       "\n",
       "    .dataframe thead th {\n",
       "        text-align: right;\n",
       "    }\n",
       "</style>\n",
       "<table border=\"1\" class=\"dataframe\">\n",
       "  <thead>\n",
       "    <tr style=\"text-align: right;\">\n",
       "      <th></th>\n",
       "      <th>brand_id</th>\n",
       "      <th>brand_id_count</th>\n",
       "    </tr>\n",
       "  </thead>\n",
       "  <tbody>\n",
       "    <tr>\n",
       "      <th>779</th>\n",
       "      <td>bain_capital</td>\n",
       "      <td>1</td>\n",
       "    </tr>\n",
       "    <tr>\n",
       "      <th>780</th>\n",
       "      <td>amfirst</td>\n",
       "      <td>1</td>\n",
       "    </tr>\n",
       "    <tr>\n",
       "      <th>781</th>\n",
       "      <td>del_one</td>\n",
       "      <td>1</td>\n",
       "    </tr>\n",
       "    <tr>\n",
       "      <th>782</th>\n",
       "      <td>trumark_financial_credit_union</td>\n",
       "      <td>1</td>\n",
       "    </tr>\n",
       "    <tr>\n",
       "      <th>783</th>\n",
       "      <td>symantec_vip</td>\n",
       "      <td>1</td>\n",
       "    </tr>\n",
       "    <tr>\n",
       "      <th>...</th>\n",
       "      <td>...</td>\n",
       "      <td>...</td>\n",
       "    </tr>\n",
       "    <tr>\n",
       "      <th>1026</th>\n",
       "      <td>orange_county_s_credit_union</td>\n",
       "      <td>1</td>\n",
       "    </tr>\n",
       "    <tr>\n",
       "      <th>1027</th>\n",
       "      <td>credit_union_west</td>\n",
       "      <td>1</td>\n",
       "    </tr>\n",
       "    <tr>\n",
       "      <th>1028</th>\n",
       "      <td>spark_nz</td>\n",
       "      <td>1</td>\n",
       "    </tr>\n",
       "    <tr>\n",
       "      <th>1029</th>\n",
       "      <td>absa</td>\n",
       "      <td>1</td>\n",
       "    </tr>\n",
       "    <tr>\n",
       "      <th>1030</th>\n",
       "      <td>post_nord</td>\n",
       "      <td>1</td>\n",
       "    </tr>\n",
       "  </tbody>\n",
       "</table>\n",
       "<p>252 rows × 2 columns</p>\n",
       "</div>"
      ],
      "text/plain": [
       "                            brand_id  brand_id_count\n",
       "779                     bain_capital               1\n",
       "780                          amfirst               1\n",
       "781                          del_one               1\n",
       "782   trumark_financial_credit_union               1\n",
       "783                     symantec_vip               1\n",
       "...                              ...             ...\n",
       "1026    orange_county_s_credit_union               1\n",
       "1027               credit_union_west               1\n",
       "1028                        spark_nz               1\n",
       "1029                            absa               1\n",
       "1030                       post_nord               1\n",
       "\n",
       "[252 rows x 2 columns]"
      ]
     },
     "execution_count": 7,
     "metadata": {},
     "output_type": "execute_result"
    }
   ],
   "source": [
    "# 1031 unique classes\n",
    "\n",
    "brand_id_count = pd.DataFrame(data['brand_id'].value_counts()).reset_index().rename(columns={'brand_id':'brand_id_count', 'index':'brand_id'})\n",
    "brand_id_count[brand_id_count['brand_id_count'] == 1]"
   ]
  },
  {
   "cell_type": "code",
   "execution_count": 8,
   "id": "c565caa3",
   "metadata": {},
   "outputs": [],
   "source": [
    "# join the count on the brand id\n",
    "data = pd.merge(data, brand_id_count, on='brand_id', how='inner')"
   ]
  },
  {
   "cell_type": "code",
   "execution_count": 9,
   "id": "7f561461",
   "metadata": {},
   "outputs": [
    {
     "data": {
      "text/html": [
       "<div>\n",
       "<style scoped>\n",
       "    .dataframe tbody tr th:only-of-type {\n",
       "        vertical-align: middle;\n",
       "    }\n",
       "\n",
       "    .dataframe tbody tr th {\n",
       "        vertical-align: top;\n",
       "    }\n",
       "\n",
       "    .dataframe thead th {\n",
       "        text-align: right;\n",
       "    }\n",
       "</style>\n",
       "<table border=\"1\" class=\"dataframe\">\n",
       "  <thead>\n",
       "    <tr style=\"text-align: right;\">\n",
       "      <th></th>\n",
       "      <th>brand_id</th>\n",
       "      <th>raw_text</th>\n",
       "      <th>brand_id_count</th>\n",
       "    </tr>\n",
       "  </thead>\n",
       "  <tbody>\n",
       "    <tr>\n",
       "      <th>0</th>\n",
       "      <td>unknown</td>\n",
       "      <td>CPL  Loading Done  OK Trading Perpetual Spot T...</td>\n",
       "      <td>17882</td>\n",
       "    </tr>\n",
       "    <tr>\n",
       "      <th>1</th>\n",
       "      <td>unknown</td>\n",
       "      <td>Home Page - aflac.sparkfly.com  iframe srcwwwg...</td>\n",
       "      <td>17882</td>\n",
       "    </tr>\n",
       "  </tbody>\n",
       "</table>\n",
       "</div>"
      ],
      "text/plain": [
       "  brand_id                                           raw_text  brand_id_count\n",
       "0  unknown  CPL  Loading Done  OK Trading Perpetual Spot T...           17882\n",
       "1  unknown  Home Page - aflac.sparkfly.com  iframe srcwwwg...           17882"
      ]
     },
     "execution_count": 9,
     "metadata": {},
     "output_type": "execute_result"
    }
   ],
   "source": [
    "data.head(2)"
   ]
  },
  {
   "cell_type": "markdown",
   "id": "52b91158",
   "metadata": {},
   "source": [
    "unknown means something that is not associated with any major brand, a random piece of text hosted on a website"
   ]
  },
  {
   "cell_type": "code",
   "execution_count": 10,
   "id": "28824697",
   "metadata": {},
   "outputs": [
    {
     "data": {
      "text/plain": [
       "'CPL  Loading Done  OK Trading Perpetual Spot Trading Markets Assets Liquidity Mining Help Center Bulletin APP Download  Download Login Register Language English   Spanish English  Register Login Choose language Convert currency CPL The Most Secure Cryptocurrency Trading Platform 6448013135USD 24hour trading volume 30 Integrated liquidity providers 2000000 Users Sign up now CPL option trading system maintenance announcement More Currency Pairs Latest Price 24H Change 24H Vol 24H Turnover Markets BTC  USDT 230934 230934 01347 01347 10845K 250B ETH  USDT 158218 158218 01987 01987 13155K 20776M DOGE  USDT 009206 009206 42343 42343 113B 10535M LTC  USDT 9603 9603 20512 20512 69923K 6745M ADA  USDT 03821 03821 20759 20759 Loading 1551M TRX  USDT 006237 006237 03056 03056 Loading 1481M FIL  USDT 5138 5138 17403 17403 Loading 1205M LINK  USDT 6842 6842 15823 15823 Loading 991M EOS  USDT 1033 1033 28222 28222 Loading 842M USDC  USDT 09999 09999 001 001 Loading 561M DASH  USDT 5978 5978 07471 07471 Loading 484M XMR  USDT 1776 1776 00563 00563 Loading 419M BCH  USDT 1319 1319 10503 10503 Loading 244M ZEC  USDT 448 448 0885 0885 Loading 159M YFI  USDT 7193 7193 04016 04016 Loading 96331K DAI  USDT 10189 10189 01278 01278 Loading 76050K ETH  BTC 006852 006852 00394 00394 Loading 167K More Our Advantages CPL is a highperformance open source blockchain platform designed to support and operate a secure compliant and predictable digital infrastructure Safe and stable The topnotch technical team comprehensive security protection independent research and development of highspeed transaction engine stable and reliable operation under massive concurrent transactions Professional compliance Professional operation team years of experience in blockchain and financial industry holding a compliant digital asset trading license and a 100 deposit guarantee User first Facing the global market multilanguage support 724 hours uninterrupted operation strong community support and professional customer service High performance With 300000 transactions per second the order response time is less than 1 millisecond CPL Cryptocurrencies News More 20221214 Outlook for digital assets in 2022 Capital influx and supervision are all the focus Investors and industry insiders say regulation will play an important role in the direction of digital assets as many digital exchanges continue to operate in gray areas in many parts of Asia As digital assets grow in popularity among investors new types of blockchainbased securities and exchanges have emerged prompting regulators to act But rolling out the framework will take time leaving companies and investors in a regulatory bind A lot of regulators take an eitheror approach Either I dont want to do this I dont want to watch this or I think I can come up with convincing rules I think regulators should want to regulate and that takes a group that wants to come up with and Companies that follow these rules will cooperate Henry Chong founder of Hong Kongbased digital exchange Fusang told AsianInvestor Hong Kong and Singapore arguably the leading jurisdictions for digital assets in the region have been rolling out consultation papers and regulatory frameworks to regulate digital transactions In May Hong Kongs Financial Services and Treasury Bureau FSTB said it would require virtual asset exchanges to obtain a license from the Securities and Futures Commission SFC Currently virtual exchanges operate under an optin regime and are licensed under the same regulations as traditional trading and securities firms In Singapore which bills itself as an innovation hub fintech companies are setting up shop in the country where fintech funding has tripled to 3 billion in 2021 Crypto exchange Cryptocom moved its headquarters from Hong Kong to Singapore this year where other global cryptocurrency firms such as Coinbase Binance and Gemini have set up operations That said the Monetary Authority of Singapore MAS is still screening 400 license applications from digital token players Only a handful have been approved and about 70 are currently operating on temporary exempt licenses It remains to be seen how long these fintech companies are willing to wait for regulatory approval Binance Singapore announced on Monday December 13 that it will withdraw from the country breaking rumors that it will set up a global headquarters in Singapore In response to Binance Singapores departure a MAS spokesperson said Applicants may withdraw their applications as they deem fit in which case those operating under the exempt conditions will be required to cease providing regulated payment services Binance Asia Services has provided MAS with a plan for an orderly cessation of its regulated payment services MAS approach to regulation under the Payment Services Act is designed to foster innovation while ensuring appropriate controls are in place to address key risks such as money laundering and terrorist financing the spokesman said investor interest More than a decade after Bitcoin was founded its clear that the digital asset is here to stay While conservative asset owners continue to shy away from cryptocurrencies they have begun investing in the underlying technology and other blockchainenabled securities Cryptocurrency is a digital asset said Ankit Khandelwal chief investment officer at multifamily office Maitri Asset Management We are more interested in the underlying technology in these cryptocurrencies mainly blockchain technology which can have huge potential uses in various industries This technology makes a lot of sense and could have many use cases as well as the world of new developments in virtual spaces and metaverses he said Despite expressed interest Maitris family office clients have reservations about the digital asset space with most still in the learning and evaluation phase Very few clients are really investing in this space because its an evolving field in itself Theres a lot thats unknown here he said But one of the things weve heard from most investor feedback is that this technology shows a lot of promise Some of these uses include REITs funds or even just contracts legal contracts smart contracts which can be used in There are various use cases in different industries and in supply chain logistics Regulatory plus or minus Regardless of which direction regulation is headed experts agree that regulation is on the rise  and that will only give investors more confidence in digital assets and the underlying technology There are several digital asset classes that will increasingly come under the watchful eye of regulators including tethered stablecoins including private native cryptocurrencies said Benjamin Quinlan chairman of the Hong Kong Fintech Association All of this means that the regulatory arbitrage window is now closing fast or even disappearing people are going to need to play more of the regulated game That said its a plus and a minus for the industry But overall In general the tilt towards legality means that in order to achieve real institutional adoption the product set around the digital asset space needs to be inherently safer he said One benefit of increased regulation he added is that fintech companies are starting to realize that if they want to operate as a licensed financial institution theyre starting to understand that you cant just keep making products like crazy to create securitylike tools On the other hand a lot of brokers understand that business is being lost from them that their client base wants to trade digital assetsand now brokerages are even saying to us do we need to launch our own exchange to remain relevant is a very commoditized space so it will be interesting to see which exchanges thrive he added View Details Crypto Prices Today Bitcoin Holds Near 17000 Litecoin Up Up To 5 20221226 New Delhi Cryptocurrency markets were mixed on Monday Bitcoin Litecoin and Yearn Finance gained on the trade while Binance and Dogecoin lost money on the trade Bitcoin gained 031 and held near 17000 while Ethereum was comfortably trading above 1200 Litecoin meanwhile outperformed its larger peers gaining 5 Cardano was up 02 while XRP Polygon and Tron were also higher However Dogecoin is down around 15 The global cryptocurrency market cap stands at just over 812 billion up 012 over the past 24 hours The total transaction volume of DeFi is currently 161 billion accounting for 711 of the entire cryptocurrency market The trading volume of all stablecoins is about 2068 billion accounting for 9130 of the entire cryptocurrency market Bitcoin the worlds largest cryptocurrency according to CoinMarketCap Hovering around 325 billion Chinas 4002 percent dominance was up 007 percent on the day Cryptocurrency shopping carts a quick glance Source coinmarketcapcom data as of 1041 hours IST 26 December 2022 Bitcoin 1688888 034 Ethereum 122133 010 Tether 1 001 USD Coin 1 USD 001 Binance Coin 24420 035 Ripple 035 016 Dogecoin 007607  144 Cardano 026 027 Polygon 08012 064 Polkadot 449 105 TRON 005483 028 Litecoin 6892 483 Shiba Inu 00000008338 008 Solana 1137 063 Note Price change in last 24 hours what is india doing Policies related to cryptoassets and their ecosystems are set by the Ministry of Finance and any relevant legislation will only come into force through international cooperation after a proper risk assessment Parliament was informed last week By definition cryptoassets are borderless and require international cooperation to prevent regulatory arbitrage Therefore any legislation on this topic will only be effective if there is significant international cooperation in assessing the risks and benefits and evolution of common taxonomies and standards  Minister of State for Finance Pankaj Chaudhary told the Lok Sabha in a written reply View Details Under the chaos of the digital asset trading platform FTX will the cryptocurrency be in trouble 20221216 If Bitcoin Bitcoin is a boxer it must be the kind of tough fighter who refuses to give up forever But in the past few weeks it has taken a beating with the collapse of digital asset industry giant FTX and the arrest of its founder Sam BankmanFried in the Caribbean Bitcoin is used to blows of all kinds but after its most battered year to date the antiestablishment warrior is now being pushed to the brink If Bitcoin were a boxer it would be lying in the ring by now staring at gold stars It fell but has it lost The Rise of Bitcoin Bitcoin has a doganddog story like the American movie Rocky In 2009 it was still equivalent to an Internet forum in the no matter what zone Bitcoins prospects were insignificant at that time and its value was only a few pennies But over the years its crowd of promoters has grown helping Bitcoin to develop against the mainstream Bitcoins value rose to tens of thousands of dollars and it began to gain recognition and popularity in some places It began to be accepted by some exclusive websites or trendy coffee shops Gradually against everyones expectations Bitcoin began to be sought after  like a champion boxer Thousands of imitators like Ethereum Dogecoin and Litecoin started appearing before Bitcoin peaked in 2021 with a surge in fame and value People started pouring money into it and other cryptocurrencies with a virtual coin worth nearly 70000 57200 Mainstream groups have also begun to turn to invest in Bitcoin and cryptocurrency projects watershed Then in November of that year Bitcoin started to drop and has been going lower ever since Ongoing price drops and scandals have brought it to multiyear lows in terms of value credibility and appeal Its been a bad time for the cryptocurrency space and we may have worse days to come after the recent FTX scandal Its a watershed moment for cryptocurrencies said the Caribbean Blockchain Alliance Chairman Stefen Deleveaux said FTXs crash last month was the biggest shakeout in the crypto space in years It is the second largest trading platform in the world  the entry point for millions of people into the cryptocurrency space It was once regarded as one of the most trusted platforms but collapsed into bankruptcy just days after it was revealed that it was financially unstable FTX founder Sam BankmanFried is currently in custody accused by the US of building a house of cards based on fraud while telling investors its one of the safest structures in crypto  BankmanFried told the BBC that he wishes he hadnt killed cryptocurrencies because of it FTX certainly took a hit but 2022 itself has dealt blows to cryptocurrencies repeatedly Weve never seen anything like this in the cryptocurrency space before said Prof Carol Alexander from the University of Sussex Business School She predicted last year that cryptocurrencies would crash in 2022 but admitted she was taken aback by how often these events occurred wave after wave The first major blow came in May when two popular digital currencies collapsed costing Bitcoin and the entire crypto ecosystem 400 billion in value Do Kwon who created the Terra currency is now wanted by South Korean authorities allegedly hiding in Serbia A series of other scandals large and small have shaken trust in the cryptocurrency ecosystem such as Kim Kardashian being fined 126 million for promoting an ultimately failed cryptocurrency In addition there is also the collapse of the nonfungible token Non Fungible Token market that was once booming In the past NFTs were sold for millions of dollars but now they are difficult to sell Confidence has also been hit by a spate of hacks against cryptocurrency companies the largest of which stole 600 million from operator Ronin Network As Bitcoin and all other virtual currencies shrink in value big virtual currency firms like Celsius Three Arrows Capital and BlockFi go bust costing investors big and small police Also investigating what happened The value of a single bitcoin often seen as a barometer of the entire virtual currency ecosystem is now hovering at less than 18000  a 70 drop from its November 2021 peak Can cryptocurrencies make a comeback The fall of trading platforms such as FTX has left a huge hole in the industry which has raised other concerns More than 14 billion was withdrawn from the Binance exchange on Tuesday This appears to be due to negative media coverage of cryptocurrencies Changpeng Zhao the companys founder urged calm on Twitter saying it was business as usual However Andy Renshaw senior vice president of product management at Feedzai said that cryptocurrencies will need to rely on a strong and diverse crowdfunding platform to survive this ongoing battle Without a trusted place to trade safely cryptocurrencies are unlikely to return to the status of champion boxers let alone grab gold beltsat least some basic skills still need to be corrected in training camp Digital currency is of course only a part of the encryption ecosystem but most peoples estimates are not optimistic about its value rising in the short term As a speculative asset cryptocurrencies appear to have a bleak future according to Prof Omid Malekan of Columbia Business School Prices have fallen and many of the largest providers of investmentrelated services have gone bust But he said that cryptocurrency is still first and foremost a technology to which he said Its in good shape better than ever in some ways The adoption of bitcoin and socalled stablecoins in developing countries without reliable financial infrastructure shows how the technology is improving peoples lives Professor Malekan said DeLorevo also believes that the cryptocurrencys ups and downs overshadow its overall progress He noted that cryptocurrencies are being used to help charities access funds in places where normal currency cannot be obtained due to war and economic depression He also said that the recent scandal is an opportunity to drive the scammers away in the crypto space Crypto is basically a very short summary of the future of the digital global economy said Professor Alexander She pointed out that the metaverse environment built with encryption technology has been regarded by some people as the form of future work and life View Details What are cryptocurrency prices today December 24 2022 20221224 Cryptocurrency Prices Today December 24 2022 Solana has lost 495 in value over the past 24 hours while Terra Classic and Decentraland have seen notable increases in value Latest Release Celebrities Who Lost Millions on NFTs The market fell for a third straight day after trading in the green flag for two straight days Despite this the value of various cryptocurrencies has increased At the time of writing Solana is down 495 making it the biggest loss in the past 24 hours Dogecoin price surged yesterday but is down 173 as of today The price of Uniswap fell by 153 The value of Toncoin fell by 136 In the past day the price of Terra Classic increased by 551 The value of Decentraland has increased by 509 Cronos gained 327 The total value of all cryptocurrencies currently on the market is estimated at 81048 billion down 023 over the past 24 hours The total cryptocurrency market fell by 1628 and is currently worth 2493 billion The top 4 cryptocurrencies today are as follows Solana SOL down 495 Over the past day the value of the cryptocurrency Solana has dropped by a massive 495 The current market cap is 4023 billion The total transaction volume decreased by 1673 The price of one SOL token is currently 1134 Dogecoin DOGE has lost 173 in value Dogecoins market capitalization fell 173 to 10389 billion in the past 24 hours Currently one DOGE coin can be purchased for 007701 Transaction volume also fell by 5450 Terra Classic LUNC gained 551 After rising 551 Terra Classics current market cap is 99458 billion Compared with the previous trading day the trading volume decreased by 753 percentage points The current price of one LUNC cryptocurrency coin is 00001452 The value of Decentraland MANA has increased by 509 In the past twentyfour hours the value of the cryptocurrency Decentraland has increased by 509 The current market value is 613706 million At this point one MANA token can be purchased for 033302 The recent transaction volume has increased by 32137 finally Cryptocurrency Prices Today December 24 2022 The cryptocurrency market has yet to recover from an adverse trend following the FTX fiasco and the Feds decision to raise interest rates No evidence of dust buildup Still the fact that some coins are doing well makes the end of the year very exciting View Details About US About CPL CPLGlobal Pro Station an innovative digital asset trading platform serving professional trading users worldwide is dedicated to discovering highquality innovative digital asset investment opportunities It currently provides trading and investment services for over forty digital asset products CPL Group is a leading global provider of financial services for blockchain assets It has provided highquality services to millions of users from over 130 countries worldwide It has independent offices in USASingapore Korea Hong Kong and other countries and regions Trading business and operation centers CPL Group and its subbrands are global leaders in technology platform product branches security and risk control system operation and customer service system In additionCPL other subbrands with global operations include CPL Japans digital asset trading platform and CPL Wallet digital asset management services Trade anytime anywhere Perfectly compatible with multiple terminals meeting the transaction needs of various scenarios at any time View live quotes at any time Buy and sell BTC ETH XRP and other digital assets with ease Get alerts on price changes in the Cryptocurrencies you follow View bitcoin spot loan term loan and option prices Compare Cryptocurrency prices on various exchanges App Store Android Download CPL English   Spanish English About Bulletin Service Agreement Support Help Center Online Customer Service Suggestions and Feedback Service Download Coin Application Privacy Statement CopyRight 20182023 CPL All Rights Reserved About Bulletin Service Agreement Support Help Center Online Customer Service Suggestions and Feedback Service Download Coin Application Privacy Statement English   Spanish English CopyRight 20182023 CPL All Rights Reserved Contact Us '"
      ]
     },
     "execution_count": 10,
     "metadata": {},
     "output_type": "execute_result"
    }
   ],
   "source": [
    "# seeing what an unknown class looks like\n",
    "\n",
    "data[data['brand_id'] == 'unknown']['raw_text'][0]"
   ]
  },
  {
   "cell_type": "code",
   "execution_count": 11,
   "id": "dc6a3f90",
   "metadata": {},
   "outputs": [
    {
     "data": {
      "text/plain": [
       "'Roblox Robux Generator 2022  Account Information Enter your username Platform Android iOS PC Android Android iOS PC Continue Roblox Robux Generator You can safely use Roblox Generator to add Unlimited Robux to your Roblox account This is the official Roblox Robux Generator updated for 2022 Generator is easy to use Just Enter your username and select how much Robux you want to add in your account Robux Amount 1000 MAX AMOUNT 1000 5000 25000 50000 100000 20 Generate Processing Human Verification  Complete ONE offer After completion your robux will be send to your account Verify Now Account Username Selected Platform Robux Amount 0 1 Recent Activity Suadero on PC 50000 Robux Ermes Posted a minute ago Thank you it really works  Adelia Conti Posted a minute ago Once again I got all resources D I cant thank you enough 3 Abelardo Posted few seconds ago wow this website is giving some real stuff  D Add a new comment Post To prevent spam commenting is only allowed for users who already used our generator Live Chat Generator Chatroom   Enter your Chat Username Save Welcome to the chatroom posting links or spamming will result in a kick 1259 LearningToPIay Do Robux expire Send Copyright  2022 All rights reserved a href target_blankimg srcsstatic1histatscom0gif4275781101 altcounter border0a '"
      ]
     },
     "execution_count": 11,
     "metadata": {},
     "output_type": "execute_result"
    }
   ],
   "source": [
    "# seeing what an non-unknown class looks like\n",
    "\n",
    "data[data['brand_id'] == 'roblox']['raw_text'][17885]"
   ]
  },
  {
   "cell_type": "code",
   "execution_count": 12,
   "id": "45ae6490",
   "metadata": {},
   "outputs": [
    {
     "name": "stdout",
     "output_type": "stream",
     "text": [
      "Average length of text with class unknown:  4540.652\n",
      "Average length of text with class non-unknown:  3842.516\n"
     ]
    }
   ],
   "source": [
    "# comparing avg length of unknown vs avg length of non-unknowns\n",
    "\n",
    "avg_len_text_unknown = data[data['brand_id'] == 'unknown']['raw_text'].apply(lambda x: len(x)).mean()\n",
    "avg_len_text_not_unknown = data[data['brand_id'] != 'unknown']['raw_text'].apply(lambda x: len(x)).mean()\n",
    "\n",
    "print('Average length of text with class unknown: ', round(avg_len_text_unknown,3))\n",
    "print('Average length of text with class non-unknown: ', round(avg_len_text_not_unknown,3))"
   ]
  },
  {
   "cell_type": "code",
   "execution_count": 13,
   "id": "c58ce8c4",
   "metadata": {},
   "outputs": [],
   "source": [
    "data['length_raw_text'] = data['raw_text'].apply(lambda x: len(x))"
   ]
  },
  {
   "cell_type": "code",
   "execution_count": 14,
   "id": "f220bb0d",
   "metadata": {},
   "outputs": [
    {
     "data": {
      "text/plain": [
       "count    76069.000000\n",
       "mean      7763.082898\n",
       "std       7160.162808\n",
       "min          1.000000\n",
       "0%           1.000000\n",
       "1%           4.000000\n",
       "10%         58.000000\n",
       "25%        395.000000\n",
       "50%       7659.000000\n",
       "75%      13000.000000\n",
       "90%      17882.000000\n",
       "99%      17882.000000\n",
       "100%     17882.000000\n",
       "max      17882.000000\n",
       "Name: brand_id_count, dtype: float64"
      ]
     },
     "execution_count": 14,
     "metadata": {},
     "output_type": "execute_result"
    }
   ],
   "source": [
    "# the frewucny dashboard can be updated regularly to see what website is having the most traffic or for a brand use case visualize the daily traffic on web\n",
    "\n",
    "data['brand_id_count'].describe(percentiles=[0, 0.01, 0.1, 0.25, 0.5, 0.75, 0.9, 0.99, 1])"
   ]
  },
  {
   "cell_type": "code",
   "execution_count": 15,
   "id": "0bc6439c",
   "metadata": {},
   "outputs": [],
   "source": [
    "def map_brand_freqeuncy(x):\n",
    "    if x <= 58:\n",
    "        return 'Low'\n",
    "    elif x > 58 and x <= 7659:\n",
    "        return 'Medium'\n",
    "    elif x > 7659 and x < 17882:\n",
    "        return 'High'\n",
    "    else:\n",
    "        return 'unknown_very_high'\n",
    "      \n",
    "data['brand_freq_cat'] = data['brand_id_count'].apply(map_brand_freqeuncy)"
   ]
  },
  {
   "cell_type": "code",
   "execution_count": 16,
   "id": "91d93dee",
   "metadata": {},
   "outputs": [],
   "source": [
    "data['length_raw_text_log_scaled'] = np.log10(data['length_raw_text'])"
   ]
  },
  {
   "cell_type": "code",
   "execution_count": 17,
   "id": "22a09533",
   "metadata": {},
   "outputs": [
    {
     "data": {
      "image/png": "[encoded data removed]",
      "text/plain": [
       "<Figure size 432x432 with 1 Axes>"
      ]
     },
     "metadata": {
      "needs_background": "light"
     },
     "output_type": "display_data"
    }
   ],
   "source": [
    "sns.catplot(y='length_raw_text_log_scaled', x='brand_freq_cat', hue='brand_freq_cat',\n",
    "            data=data, height=6, kind=\"box\")\n",
    "plt.title('Raw text length with brand frequency category')\n",
    "plt.show()"
   ]
  },
  {
   "cell_type": "code",
   "execution_count": 18,
   "id": "4382fa3f",
   "metadata": {},
   "outputs": [
    {
     "data": {
      "text/plain": [
       "count    7.606900e+04\n",
       "mean     4.006631e+03\n",
       "std      1.295899e+04\n",
       "min      2.800000e+01\n",
       "25%      1.333000e+03\n",
       "50%      2.280000e+03\n",
       "75%      3.718000e+03\n",
       "max      2.089116e+06\n",
       "Name: length_raw_text, dtype: float64"
      ]
     },
     "execution_count": 18,
     "metadata": {},
     "output_type": "execute_result"
    }
   ],
   "source": [
    "data['length_raw_text'].describe()"
   ]
  },
  {
   "cell_type": "code",
   "execution_count": 19,
   "id": "dc3e9775",
   "metadata": {},
   "outputs": [
    {
     "data": {
      "image/png": "[encoded data removed]",
      "text/plain": [
       "<Figure size 720x360 with 1 Axes>"
      ]
     },
     "metadata": {
      "needs_background": "light"
     },
     "output_type": "display_data"
    }
   ],
   "source": [
    "# distribution of length of text\n",
    "data['length_raw_text'] = data['raw_text'].apply(lambda x: len(x))\n",
    "\n",
    "# histogram\n",
    "\n",
    "kwargs = dict(alpha=0.5, bins=100)\n",
    "plt.figure(figsize=(10, 5))\n",
    "plt.hist(data[data['brand_id'] == 'unknown']\n",
    "         ['length_raw_text_log_scaled'], **kwargs, color='blue', density=False, label='unknown')\n",
    "plt.hist(data[data['brand_id'] != 'unknown']\n",
    "         ['length_raw_text_log_scaled'], **kwargs,  color='red', density=False, label='not unknown')\n",
    "plt.legend()\n",
    "plt.ylabel('Length of text')\n",
    "plt.title('Distribution of text length')\n",
    "plt.show()\n"
   ]
  },
  {
   "cell_type": "code",
   "execution_count": 20,
   "id": "0774b468",
   "metadata": {},
   "outputs": [],
   "source": [
    "# presence of numeric data\n",
    "\n",
    "data['numeric_count'] = data['raw_text'].apply(lambda x: sum(c.isdigit() for c in x))"
   ]
  },
  {
   "cell_type": "code",
   "execution_count": 21,
   "id": "be8d2db0",
   "metadata": {},
   "outputs": [
    {
     "data": {
      "image/png": "[encoded data removed]",
      "text/plain": [
       "<Figure size 432x288 with 1 Axes>"
      ]
     },
     "metadata": {
      "needs_background": "light"
     },
     "output_type": "display_data"
    }
   ],
   "source": [
    "data.groupby('brand_freq_cat').median()['numeric_count'].plot.barh()\n",
    "plt.xlabel('Num occurences of numerical characters')\n",
    "plt.title('Visualizing numerical median count in texts across different categories')\n",
    "plt.show()"
   ]
  },
  {
   "cell_type": "code",
   "execution_count": 22,
   "id": "1812c049",
   "metadata": {},
   "outputs": [],
   "source": [
    "def count_puncts(x):\n",
    "    count = sum([1 for i in x if i in punctuation]) \n",
    "    return count\n",
    "\n",
    "data['punctuation_count'] = data['raw_text'].apply(lambda x: count_puncts(x))"
   ]
  },
  {
   "cell_type": "code",
   "execution_count": 23,
   "id": "afbec71f",
   "metadata": {},
   "outputs": [
    {
     "data": {
      "image/png": "[encoded data removed]",
      "text/plain": [
       "<Figure size 432x288 with 1 Axes>"
      ]
     },
     "metadata": {
      "needs_background": "light"
     },
     "output_type": "display_data"
    }
   ],
   "source": [
    "# can remove punctuation as it is not making much difference in data\n",
    "\n",
    "data.groupby('brand_freq_cat').median()['punctuation_count'].plot.barh()\n",
    "plt.xlabel('Num occurences of punctuation characters')\n",
    "plt.title('Visualizing punctuation median count in texts across different categories')\n",
    "plt.show()"
   ]
  },
  {
   "cell_type": "code",
   "execution_count": 24,
   "id": "63a993a8",
   "metadata": {},
   "outputs": [
    {
     "data": {
      "text/plain": [
       "brand_id                                                                unknown\n",
       "raw_text                      RBX TIPS 2022  LEGIT WAYS TO GET ROBLOX ROBUX ...\n",
       "brand_id_count                                                            17882\n",
       "length_raw_text                                                              89\n",
       "brand_freq_cat                                                unknown_very_high\n",
       "length_raw_text_log_scaled                                              1.94939\n",
       "numeric_count                                                                 8\n",
       "punctuation_count                                                             0\n",
       "Name: 17727, dtype: object"
      ]
     },
     "execution_count": 24,
     "metadata": {},
     "output_type": "execute_result"
    }
   ],
   "source": [
    "# if we can find the brand id in every text\n",
    "# the text has roblox but is not mapped to roblox, ir else we could have used keyword extraction models\n",
    "\n",
    "data.loc[17727]"
   ]
  },
  {
   "cell_type": "code",
   "execution_count": 25,
   "id": "b0b89fdc",
   "metadata": {},
   "outputs": [
    {
     "data": {
      "text/plain": [
       "brand_id                                                       neuberger_berman\n",
       "raw_text                      路博迈  KLUvQBY5B8Fq8Hxg88AFeSDAcXufT1uYRoepmp0Uo...\n",
       "brand_id_count                                                                8\n",
       "length_raw_text                                                         2089116\n",
       "brand_freq_cat                                                              Low\n",
       "length_raw_text_log_scaled                                             6.319963\n",
       "numeric_count                                                            314832\n",
       "punctuation_count                                                             0\n",
       "Name: 68605, dtype: object"
      ]
     },
     "execution_count": 25,
     "metadata": {},
     "output_type": "execute_result"
    }
   ],
   "source": [
    "# some of the data is in different language\n",
    "\n",
    "data.loc[68605]"
   ]
  },
  {
   "cell_type": "markdown",
   "id": "186e1374",
   "metadata": {},
   "source": [
    "# Text cleaning"
   ]
  },
  {
   "cell_type": "code",
   "execution_count": 26,
   "id": "d16f1aca",
   "metadata": {},
   "outputs": [],
   "source": [
    "sub_data = data.sample(1000)"
   ]
  },
  {
   "cell_type": "code",
   "execution_count": 27,
   "id": "1307bbde",
   "metadata": {},
   "outputs": [],
   "source": [
    "#tokenization\n",
    "\n",
    "tok = spacy.load('en_core_web_sm')\n",
    "def tokenize(text):\n",
    "    text = re.sub(r\"[^\\x00-\\x7F]+\", \" \", text)\n",
    "    regex = re.compile('[' + re.escape(string.punctuation) + '0-9\\\\r\\\\t\\\\n]') # remove punctuation and numbers\n",
    "    nopunct = regex.sub(\" \", text.lower())\n",
    "    return [token.text for token in tok.tokenizer(nopunct)]"
   ]
  },
  {
   "cell_type": "code",
   "execution_count": 28,
   "id": "590c8cae",
   "metadata": {},
   "outputs": [],
   "source": [
    "counts = Counter()\n",
    "for index, row in sub_data.iterrows():\n",
    "    counts.update(tokenize(row['raw_text']))"
   ]
  },
  {
   "cell_type": "code",
   "execution_count": 29,
   "id": "409ca09a",
   "metadata": {},
   "outputs": [
    {
     "data": {
      "text/plain": [
       "34739"
      ]
     },
     "execution_count": 29,
     "metadata": {},
     "output_type": "execute_result"
    }
   ],
   "source": [
    "len(counts)"
   ]
  },
  {
   "cell_type": "code",
   "execution_count": 30,
   "id": "aac560fc",
   "metadata": {},
   "outputs": [
    {
     "name": "stdout",
     "output_type": "stream",
     "text": [
      "num_words before: 34739\n",
      "num_words after: 16991\n"
     ]
    }
   ],
   "source": [
    "#deleting infrequent words\n",
    "\n",
    "print(\"num_words before:\",len(counts.keys()))\n",
    "for word in list(counts):\n",
    "    if counts[word] < 2:\n",
    "        del counts[word]\n",
    "print(\"num_words after:\",len(counts.keys()))"
   ]
  },
  {
   "cell_type": "code",
   "execution_count": 31,
   "id": "2a107f1d",
   "metadata": {},
   "outputs": [],
   "source": [
    "#creating vocabulary\n",
    "\n",
    "vocab2index = {\"\":0, \"UNK\":1}\n",
    "words = [\"\", \"UNK\"]\n",
    "for word in counts:\n",
    "    vocab2index[word] = len(words)\n",
    "    words.append(word)"
   ]
  },
  {
   "cell_type": "code",
   "execution_count": 32,
   "id": "693d5d35",
   "metadata": {},
   "outputs": [
    {
     "data": {
      "text/plain": [
       "16993"
      ]
     },
     "execution_count": 32,
     "metadata": {},
     "output_type": "execute_result"
    }
   ],
   "source": [
    "len(vocab2index)"
   ]
  },
  {
   "cell_type": "code",
   "execution_count": 57,
   "id": "8641c089",
   "metadata": {},
   "outputs": [],
   "source": [
    "# saving vocab2index for future\n",
    "\n",
    "with open(\"vocab2index.pkl\", \"wb\") as myFile:\n",
    "    pickle.dump(vocab2index, myFile)"
   ]
  },
  {
   "cell_type": "code",
   "execution_count": 34,
   "id": "8dd796d7",
   "metadata": {},
   "outputs": [
    {
     "data": {
      "text/plain": [
       "3682.994"
      ]
     },
     "execution_count": 34,
     "metadata": {},
     "output_type": "execute_result"
    }
   ],
   "source": [
    "sub_data['length_raw_text'].mean()"
   ]
  },
  {
   "cell_type": "code",
   "execution_count": 35,
   "id": "4a2ee9d7",
   "metadata": {},
   "outputs": [],
   "source": [
    "# 3863 is the median length\n",
    "\n",
    "def encode_sentence(text, vocab2index, N=4000):\n",
    "    tokenized = tokenize(text)\n",
    "    encoded = np.zeros(N, dtype=int)\n",
    "    enc1 = np.array([vocab2index.get(word, vocab2index[\"UNK\"]) for word in tokenized])\n",
    "    length = min(N, len(enc1))\n",
    "    encoded[:length] = enc1[:length]\n",
    "    return encoded"
   ]
  },
  {
   "cell_type": "code",
   "execution_count": 36,
   "id": "ab9ec4b3",
   "metadata": {},
   "outputs": [
    {
     "data": {
      "text/html": [
       "<div>\n",
       "<style scoped>\n",
       "    .dataframe tbody tr th:only-of-type {\n",
       "        vertical-align: middle;\n",
       "    }\n",
       "\n",
       "    .dataframe tbody tr th {\n",
       "        vertical-align: top;\n",
       "    }\n",
       "\n",
       "    .dataframe thead th {\n",
       "        text-align: right;\n",
       "    }\n",
       "</style>\n",
       "<table border=\"1\" class=\"dataframe\">\n",
       "  <thead>\n",
       "    <tr style=\"text-align: right;\">\n",
       "      <th></th>\n",
       "      <th>brand_id</th>\n",
       "      <th>raw_text</th>\n",
       "      <th>brand_id_count</th>\n",
       "      <th>length_raw_text</th>\n",
       "      <th>brand_freq_cat</th>\n",
       "      <th>length_raw_text_log_scaled</th>\n",
       "      <th>numeric_count</th>\n",
       "      <th>punctuation_count</th>\n",
       "      <th>encoded_text</th>\n",
       "    </tr>\n",
       "  </thead>\n",
       "  <tbody>\n",
       "    <tr>\n",
       "      <th>57081</th>\n",
       "      <td>runescape</td>\n",
       "      <td>RS Money,RS Gold,Cheap RS gold ,wow gold,b&amp;S g...</td>\n",
       "      <td>1131</td>\n",
       "      <td>3092</td>\n",
       "      <td>Medium</td>\n",
       "      <td>3.490239</td>\n",
       "      <td>254</td>\n",
       "      <td>53</td>\n",
       "      <td>[2, 3, 2, 4, 5, 2, 4, 6, 7, 4, 8, 9, 4, 10, 11...</td>\n",
       "    </tr>\n",
       "    <tr>\n",
       "      <th>59371</th>\n",
       "      <td>facebook</td>\n",
       "      <td>Log in to Facebook | Facebook  Sign Up Log Int...</td>\n",
       "      <td>858</td>\n",
       "      <td>376</td>\n",
       "      <td>Medium</td>\n",
       "      <td>2.575188</td>\n",
       "      <td>4</td>\n",
       "      <td>1</td>\n",
       "      <td>[160, 48, 40, 161, 28, 161, 6, 47, 162, 160, 9...</td>\n",
       "    </tr>\n",
       "    <tr>\n",
       "      <th>72766</th>\n",
       "      <td>prosperity_bank</td>\n",
       "      <td>Personal| Home  IMPORTANT INFORMATION ABOUT CO...</td>\n",
       "      <td>11</td>\n",
       "      <td>4345</td>\n",
       "      <td>Low</td>\n",
       "      <td>3.637990</td>\n",
       "      <td>38</td>\n",
       "      <td>1</td>\n",
       "      <td>[192, 6, 36, 6, 193, 194, 124, 195, 28, 196, 1...</td>\n",
       "    </tr>\n",
       "    <tr>\n",
       "      <th>43870</th>\n",
       "      <td>hm_fashion</td>\n",
       "      <td>🎁Free gift card for everyone!🎁  HM Free gift f...</td>\n",
       "      <td>1136</td>\n",
       "      <td>2008</td>\n",
       "      <td>Medium</td>\n",
       "      <td>3.302764</td>\n",
       "      <td>131</td>\n",
       "      <td>1</td>\n",
       "      <td>[6, 210, 376, 241, 13, 377, 22, 378, 210, 376,...</td>\n",
       "    </tr>\n",
       "    <tr>\n",
       "      <th>62884</th>\n",
       "      <td>opensea</td>\n",
       "      <td>OpenSea, the largest NFT marketplace  strongWe...</td>\n",
       "      <td>442</td>\n",
       "      <td>470</td>\n",
       "      <td>Medium</td>\n",
       "      <td>2.672098</td>\n",
       "      <td>17</td>\n",
       "      <td>1</td>\n",
       "      <td>[496, 6, 91, 497, 498, 180, 6, 499, 500, 462, ...</td>\n",
       "    </tr>\n",
       "  </tbody>\n",
       "</table>\n",
       "</div>"
      ],
      "text/plain": [
       "              brand_id                                           raw_text  \\\n",
       "57081        runescape  RS Money,RS Gold,Cheap RS gold ,wow gold,b&S g...   \n",
       "59371         facebook  Log in to Facebook | Facebook  Sign Up Log Int...   \n",
       "72766  prosperity_bank  Personal| Home  IMPORTANT INFORMATION ABOUT CO...   \n",
       "43870       hm_fashion  🎁Free gift card for everyone!🎁  HM Free gift f...   \n",
       "62884          opensea  OpenSea, the largest NFT marketplace  strongWe...   \n",
       "\n",
       "       brand_id_count  length_raw_text brand_freq_cat  \\\n",
       "57081            1131             3092         Medium   \n",
       "59371             858              376         Medium   \n",
       "72766              11             4345            Low   \n",
       "43870            1136             2008         Medium   \n",
       "62884             442              470         Medium   \n",
       "\n",
       "       length_raw_text_log_scaled  numeric_count  punctuation_count  \\\n",
       "57081                    3.490239            254                 53   \n",
       "59371                    2.575188              4                  1   \n",
       "72766                    3.637990             38                  1   \n",
       "43870                    3.302764            131                  1   \n",
       "62884                    2.672098             17                  1   \n",
       "\n",
       "                                            encoded_text  \n",
       "57081  [2, 3, 2, 4, 5, 2, 4, 6, 7, 4, 8, 9, 4, 10, 11...  \n",
       "59371  [160, 48, 40, 161, 28, 161, 6, 47, 162, 160, 9...  \n",
       "72766  [192, 6, 36, 6, 193, 194, 124, 195, 28, 196, 1...  \n",
       "43870  [6, 210, 376, 241, 13, 377, 22, 378, 210, 376,...  \n",
       "62884  [496, 6, 91, 497, 498, 180, 6, 499, 500, 462, ...  "
      ]
     },
     "execution_count": 36,
     "metadata": {},
     "output_type": "execute_result"
    }
   ],
   "source": [
    "sub_data['encoded_text'] = sub_data['raw_text'].apply(\n",
    "    lambda x: np.array(encode_sentence(x, vocab2index)))\n",
    "sub_data.head()"
   ]
  },
  {
   "cell_type": "code",
   "execution_count": 37,
   "id": "bbf9d796",
   "metadata": {
    "scrolled": true
   },
   "outputs": [],
   "source": [
    "# label encoding the target\n",
    "\n",
    "le = LabelEncoder()\n",
    "sub_data['brand_id_encoded'] = le.fit_transform(sub_data['brand_id'])\n",
    "brand_name_mapping = dict(zip(le.classes_, le.transform(le.classes_)))"
   ]
  },
  {
   "cell_type": "code",
   "execution_count": 58,
   "id": "27af8978",
   "metadata": {},
   "outputs": [],
   "source": [
    "# saving brand_name_mapping for future\n",
    "\n",
    "with open(\"brand_name_mapping.pkl\", \"wb\") as myFile:\n",
    "    pickle.dump(brand_name_mapping, myFile)"
   ]
  },
  {
   "cell_type": "code",
   "execution_count": 39,
   "id": "c7aceb7a",
   "metadata": {},
   "outputs": [],
   "source": [
    "X = sub_data['encoded_text'].values\n",
    "y = sub_data['brand_id_encoded'].values\n",
    "\n",
    "X_train, X_test, y_train, y_test = train_test_split(\n",
    "    X, y, test_size=0.2)"
   ]
  },
  {
   "cell_type": "code",
   "execution_count": 40,
   "id": "3a3b7587",
   "metadata": {},
   "outputs": [],
   "source": [
    "class WebDataset(Dataset):\n",
    "    def __init__(self, X, Y):\n",
    "        self.X = X\n",
    "        self.y = Y\n",
    "\n",
    "    def __len__(self):\n",
    "        return len(self.y)\n",
    "\n",
    "    def __getitem__(self, idx):\n",
    "        return self.X[idx], self.y[idx]"
   ]
  },
  {
   "cell_type": "code",
   "execution_count": 41,
   "id": "0f4982b6",
   "metadata": {},
   "outputs": [],
   "source": [
    "train_ds = WebDataset(X_train, y_train)\n",
    "test_ds = WebDataset(X_test, y_test)"
   ]
  },
  {
   "cell_type": "code",
   "execution_count": 42,
   "id": "6f3eacbb",
   "metadata": {},
   "outputs": [],
   "source": [
    "train_dl = DataLoader(train_ds, batch_size=16, shuffle=True)\n",
    "test_dl = DataLoader(test_ds, batch_size=16)"
   ]
  },
  {
   "cell_type": "code",
   "execution_count": 43,
   "id": "6af03b40",
   "metadata": {},
   "outputs": [],
   "source": [
    "class LSTMModel(torch.nn.Module):\n",
    "    def __init__(self, vocab_size, embedding_dim, hidden_dim):\n",
    "        super().__init__()\n",
    "        self.embeddings = nn.Embedding(\n",
    "            vocab_size, embedding_dim, padding_idx=0)\n",
    "        self.lstm = nn.LSTM(embedding_dim, hidden_dim, batch_first=True)\n",
    "        self.linear = nn.Linear(hidden_dim, len(brand_name_mapping))\n",
    "        self.dropout = nn.Dropout(0.2)\n",
    "\n",
    "    def forward(self, x):\n",
    "        x = self.embeddings(x)\n",
    "        x = self.dropout(x)\n",
    "        lstm_out, (ht, ct) = self.lstm(x)\n",
    "        return self.linear(ht[-1])"
   ]
  },
  {
   "cell_type": "code",
   "execution_count": 44,
   "id": "1e676475",
   "metadata": {},
   "outputs": [],
   "source": [
    "def train_model(model, epochs=10, lr=0.001, wd=1e-5):\n",
    "    optimizer = torch.optim.Adam(model.parameters(), lr=lr,\n",
    "                                 weight_decay=wd)\n",
    "    for i in range(epochs):\n",
    "        model.train()\n",
    "        sum_loss = 0.0\n",
    "        correct = 0\n",
    "        total = 0\n",
    "        for x, y in train_dl:\n",
    "            x = x.long()\n",
    "            y = y.long()\n",
    "            y_pred = model(x)\n",
    "            optimizer.zero_grad()\n",
    "            loss = F.cross_entropy(y_pred, y)\n",
    "            pred = torch.max(y_pred, 1)[1]\n",
    "            loss.backward()\n",
    "            optimizer.step()\n",
    "            sum_loss += loss.item()*y.shape[0]\n",
    "            correct += (pred == y).float().sum()\n",
    "            total += y.shape[0]\n",
    "            train_loss = sum_loss/total\n",
    "            train_acc = correct/total\n",
    "        val_loss, val_acc = validation_metrics(model, test_dl)\n",
    "        print(\"train loss %.3f, train acc %.3f, val loss %.3f, and val acc %.3f\" % (\n",
    "            train_loss, train_acc, val_loss, val_acc))\n",
    "\n",
    "\n",
    "def validation_metrics(model, test_dl):\n",
    "    model.eval()\n",
    "    correct = 0\n",
    "    total = 0\n",
    "    sum_loss = 0.0\n",
    "    for x, y in test_dl:\n",
    "        x = x.long()\n",
    "        y = y.long()\n",
    "        y_pred = model(x)\n",
    "        loss = F.cross_entropy(y_pred, y)\n",
    "        pred = torch.max(y_pred, 1)[1]\n",
    "        correct += (pred == y).float().sum()\n",
    "        total += y.shape[0]\n",
    "        sum_loss += loss.item()*y.shape[0]\n",
    "    return sum_loss/total, correct/total"
   ]
  },
  {
   "cell_type": "code",
   "execution_count": 45,
   "id": "78afab40",
   "metadata": {},
   "outputs": [],
   "source": [
    "vocab_size = len(words)\n",
    "model_fixed = LSTMModel(vocab_size, 50, 50)"
   ]
  },
  {
   "cell_type": "code",
   "execution_count": 47,
   "id": "9ef59f56",
   "metadata": {},
   "outputs": [
    {
     "name": "stdout",
     "output_type": "stream",
     "text": [
      "train loss 3.744, train acc 0.216, val loss 3.829, and val acc 0.165\n",
      "train loss 3.362, train acc 0.234, val loss 4.004, and val acc 0.220\n",
      "train loss 3.347, train acc 0.226, val loss 4.048, and val acc 0.165\n",
      "train loss 3.335, train acc 0.241, val loss 4.049, and val acc 0.165\n",
      "train loss 3.332, train acc 0.241, val loss 4.064, and val acc 0.165\n",
      "train loss 3.325, train acc 0.229, val loss 4.060, and val acc 0.165\n",
      "train loss 3.322, train acc 0.243, val loss 4.105, and val acc 0.165\n",
      "train loss 3.324, train acc 0.225, val loss 4.143, and val acc 0.165\n",
      "train loss 3.321, train acc 0.226, val loss 4.141, and val acc 0.165\n",
      "train loss 3.313, train acc 0.237, val loss 4.104, and val acc 0.165\n"
     ]
    }
   ],
   "source": [
    "train_model(model_fixed, epochs=10, lr=0.01)"
   ]
  },
  {
   "cell_type": "code",
   "execution_count": 59,
   "id": "07422281",
   "metadata": {},
   "outputs": [],
   "source": [
    "# saving the model for future predictions\n",
    "\n",
    "with open(\"finalized_model.pkl\", \"wb\") as myFile:\n",
    "    pickle.dump(model_fixed, myFile)"
   ]
  },
  {
   "cell_type": "code",
   "execution_count": 77,
   "id": "b7f1f3d6",
   "metadata": {},
   "outputs": [],
   "source": [
    "filepath = 'model_fixed_state_dict'\n",
    "torch.save(model_fixed.state_dict(), filepath)"
   ]
  },
  {
   "cell_type": "code",
   "execution_count": 81,
   "id": "293e8757",
   "metadata": {},
   "outputs": [],
   "source": [
    "new_model = LSTMModel(vocab_size, 50, 50)"
   ]
  },
  {
   "cell_type": "code",
   "execution_count": 82,
   "id": "ac1d9ae5",
   "metadata": {},
   "outputs": [
    {
     "data": {
      "text/plain": [
       "LSTMModel(\n",
       "  (embeddings): Embedding(16993, 50, padding_idx=0)\n",
       "  (lstm): LSTM(50, 50, batch_first=True)\n",
       "  (linear): Linear(in_features=50, out_features=178, bias=True)\n",
       "  (dropout): Dropout(p=0.2, inplace=False)\n",
       ")"
      ]
     },
     "execution_count": 82,
     "metadata": {},
     "output_type": "execute_result"
    }
   ],
   "source": [
    "#Later to restore:\n",
    "new_model.load_state_dict(torch.load(filepath))\n",
    "new_model.eval()"
   ]
  },
  {
   "cell_type": "markdown",
   "id": "9c53ad72",
   "metadata": {},
   "source": [
    "# Making predictions\n",
    "\n",
    "Because we used a subset of the data, we will test on one class which was present in the train data and one not present in the train data"
   ]
  },
  {
   "cell_type": "code",
   "execution_count": 49,
   "id": "2d54dfab",
   "metadata": {},
   "outputs": [
    {
     "data": {
      "text/plain": [
       "'Just a moment...  wwwapkmirrorcom Checking if the site connection is secure div idchallengeerrortitle div classh2 span classiconwrapper div classheadingicon warningicondiv span span idchallengeerrortext Enable JavaScript and cookies to continue span div div wwwapkmirrorcom needs to review the security of your connection before proceeding Why am I seeing this page Requests from malicious bots can pose as legitimate traffic Occasionally you may see this page while the site ensures that the connection is secure Connection is secure Proceeding error code 1020 Ray ID 78b461416da5c37c Performance  security by Cloudflare '"
      ]
     },
     "execution_count": 49,
     "metadata": {},
     "output_type": "execute_result"
    }
   ],
   "source": [
    "data.loc[3456]['raw_text']"
   ]
  },
  {
   "cell_type": "code",
   "execution_count": 50,
   "id": "ed3f5780",
   "metadata": {},
   "outputs": [
    {
     "data": {
      "text/plain": [
       "'unknown'"
      ]
     },
     "execution_count": 50,
     "metadata": {},
     "output_type": "execute_result"
    }
   ],
   "source": [
    "data.loc[3456]['brand_id']"
   ]
  },
  {
   "cell_type": "code",
   "execution_count": 61,
   "id": "de86690f",
   "metadata": {},
   "outputs": [
    {
     "data": {
      "text/plain": [
       "{'unknown': 2.862473964691162,\n",
       " 'wayfair': 2.7404298782348633,\n",
       " 'roblox': 2.0151207447052}"
      ]
     },
     "execution_count": 61,
     "metadata": {},
     "output_type": "execute_result"
    }
   ],
   "source": [
    "def predict(text):\n",
    "#     with open('finalized_model.pkl', 'rb') as f:\n",
    "#         model_ = pickle.load(f)\n",
    "    model = torch.load('finalized_model.pt')\n",
    "    model.eval()\n",
    "    \n",
    "    with open('vocab2index.txt', 'rb') as f:\n",
    "        vocab2index = pickle.load(f)\n",
    "    \n",
    "    with open('brand_name_mapping.txt', 'rb') as f:\n",
    "        brand_name_mapping = pickle.load(f)\n",
    "    \n",
    "    def encode_sentence(text, vocab2index, N=3863):\n",
    "        tokenized = tokenize(text)\n",
    "        encoded = np.zeros(N, dtype=int)\n",
    "        enc1 = np.array([vocab2index.get(word, vocab2index[\"UNK\"]) for word in tokenized])\n",
    "        length = min(N, len(enc1))\n",
    "        encoded[:length] = enc1[:length]\n",
    "        return encoded\n",
    "    \n",
    "    # preprocess_data\n",
    "    encoded_input = encode_sentence(text, vocab2index, N=3863)\n",
    "    \n",
    "\n",
    "    \n",
    "    # Make a prediction\n",
    "    output = model(torch.tensor(encoded_input).unsqueeze(0))\n",
    "\n",
    "    top_values, top_indices = torch.topk(output, k=3)\n",
    "    top_values = top_values.tolist()[0]\n",
    "    top_indices = top_indices.tolist()[0]\n",
    "    result_dict = dict(zip(top_values, top_indices))\n",
    "    output_dict = {}\n",
    "    for k, v in result_dict.items():\n",
    "        brand = next(key for key, value in brand_name_mapping.items() if value == v)\n",
    "        output_dict[brand] = k\n",
    "\n",
    "    # Interpret the prediction\n",
    "    return output_dict\n",
    "  \n",
    "predict(text=data.loc[3456]['raw_text'])"
   ]
  },
  {
   "cell_type": "code",
   "execution_count": 57,
   "id": "0005eefe",
   "metadata": {},
   "outputs": [],
   "source": [
    "# def load_glove_vectors(glove_file=\"/Users/tansha/Documents/bolster/glove.6B/glove.6B.50d.txt\"):\n",
    "#     \"\"\"Load the glove word vectors\"\"\"\n",
    "#     word_vectors = {}\n",
    "#     with open(glove_file) as f:\n",
    "#         for line in f:\n",
    "#             split = line.split()\n",
    "#             word_vectors[split[0]] = np.array([float(x) for x in split[1:]])\n",
    "#     return word_vectors"
   ]
  },
  {
   "cell_type": "code",
   "execution_count": 3,
   "id": "30244f01",
   "metadata": {},
   "outputs": [],
   "source": [
    "# def get_emb_matrix(pretrained, word_counts, emb_size = 50):\n",
    "#     \"\"\" Creates embedding matrix from word vectors\"\"\"\n",
    "#     vocab_size = len(word_counts) + 2\n",
    "#     vocab_to_idx = {}\n",
    "#     vocab = [\"\", \"UNK\"]\n",
    "#     W = np.zeros((vocab_size, emb_size), dtype=\"float32\")\n",
    "#     W[0] = np.zeros(emb_size, dtype='float32') # adding a vector for padding\n",
    "#     W[1] = np.random.uniform(-0.25, 0.25, emb_size) # adding a vector for unknown words \n",
    "#     vocab_to_idx[\"UNK\"] = 1\n",
    "#     i = 2\n",
    "#     for word in word_counts:\n",
    "#         if word in word_vecs:\n",
    "#             W[i] = word_vecs[word]\n",
    "#         else:\n",
    "#             W[i] = np.random.uniform(-0.25,0.25, emb_size)\n",
    "#         vocab_to_idx[word] = i\n",
    "#         vocab.append(word)\n",
    "#         i += 1   \n",
    "#     return W, np.array(vocab), vocab_to_idx"
   ]
  },
  {
   "cell_type": "code",
   "execution_count": 4,
   "id": "564973b7",
   "metadata": {},
   "outputs": [],
   "source": [
    "# word_vecs = load_glove_vectors()\n",
    "# pretrained_weights, vocab, vocab2index = get_emb_matrix(word_vecs, counts)"
   ]
  },
  {
   "cell_type": "code",
   "execution_count": 63,
   "id": "4d1e30f7",
   "metadata": {},
   "outputs": [
    {
     "data": {
      "text/html": [
       "<div>\n",
       "<style scoped>\n",
       "    .dataframe tbody tr th:only-of-type {\n",
       "        vertical-align: middle;\n",
       "    }\n",
       "\n",
       "    .dataframe tbody tr th {\n",
       "        vertical-align: top;\n",
       "    }\n",
       "\n",
       "    .dataframe thead th {\n",
       "        text-align: right;\n",
       "    }\n",
       "</style>\n",
       "<table border=\"1\" class=\"dataframe\">\n",
       "  <thead>\n",
       "    <tr style=\"text-align: right;\">\n",
       "      <th></th>\n",
       "      <th>brand_id</th>\n",
       "      <th>raw_text</th>\n",
       "      <th>brand_id_count</th>\n",
       "      <th>length_raw_text</th>\n",
       "      <th>brand_freq_cat</th>\n",
       "      <th>length_raw_text_log_scaled</th>\n",
       "      <th>numeric_count</th>\n",
       "      <th>punctuation_count</th>\n",
       "    </tr>\n",
       "  </thead>\n",
       "  <tbody>\n",
       "    <tr>\n",
       "      <th>72887</th>\n",
       "      <td>digital_federal_credit_union</td>\n",
       "      <td>Digital Federal Credit Union | Personal &amp; Busi...</td>\n",
       "      <td>24</td>\n",
       "      <td>14780</td>\n",
       "      <td>Low</td>\n",
       "      <td>4.169674</td>\n",
       "      <td>90</td>\n",
       "      <td>2</td>\n",
       "    </tr>\n",
       "  </tbody>\n",
       "</table>\n",
       "</div>"
      ],
      "text/plain": [
       "                           brand_id  \\\n",
       "72887  digital_federal_credit_union   \n",
       "\n",
       "                                                raw_text  brand_id_count  \\\n",
       "72887  Digital Federal Credit Union | Personal & Busi...              24   \n",
       "\n",
       "       length_raw_text brand_freq_cat  length_raw_text_log_scaled  \\\n",
       "72887            14780            Low                    4.169674   \n",
       "\n",
       "       numeric_count  punctuation_count  \n",
       "72887             90                  2  "
      ]
     },
     "execution_count": 63,
     "metadata": {},
     "output_type": "execute_result"
    }
   ],
   "source": [
    "data.sample(1)"
   ]
  },
  {
   "cell_type": "markdown",
   "id": "e070a792",
   "metadata": {},
   "source": [
    "# Deploying model into production\n",
    "\n",
    "* Using MLFlow server to keep track of experiements with metadata and metrics.\n",
    "* Connecting MLFlow with AirFlow to schedule model deployment\n",
    "* Scheduling the ML pipeline for retraining"
   ]
  },
  {
   "cell_type": "markdown",
   "id": "725ddb77",
   "metadata": {},
   "source": [
    "# When might the model require retraining\n",
    "\n",
    "* Around any big event(IPO, festivals and sales, elections, tax filing days)\n",
    "* Upon special request from a client\n",
    "* Schedule an AirFlow Dag using scheduler to re-train the model at a desired frequency(daily, weekly, etc) with new data"
   ]
  },
  {
   "cell_type": "markdown",
   "id": "f1994d6b",
   "metadata": {},
   "source": [
    "# Maintaining the ML Pipeline\n",
    "\n",
    "* Keep a check on data quality and distribution\n",
    "* Keeping check on data drift\n",
    "* Using load balancers and distributed training pipelines(fault tolerance)\n",
    "* Scheduling alerts and messages for failed nodes and load transfer\n",
    "* Keeping a check on model latency, throughput and accuracy\n",
    "* Fine tuning the architecture in production with changes in data"
   ]
  },
  {
   "cell_type": "markdown",
   "id": "ca2a3e5f",
   "metadata": {},
   "source": [
    "# Limitations of the process described above\n",
    "\n",
    "* Due to time and computational constraints, did not try complex architecutres\n",
    "* Using complex weighted metrics for improved model evaluation on precision and recall\n",
    "* Combining other text features(length, count nums, etc)\n",
    "* Using parallelized training and preprocessing for faster computation"
   ]
  },
  {
   "cell_type": "markdown",
   "id": "4325a0af",
   "metadata": {},
   "source": [
    "# Methodology\n",
    "\n",
    "* EDA: \n",
    "    * Checking for label distribution\n",
    "    * Checking for length of raw text for unknown vs not-unknown classes\n",
    "    * Checking for log_scaled length distribution of raw text across brands categorized with frequency\n",
    "    * Visible difference between the median count of numbers across different categories\n",
    "    \n",
    "* preprocessing:\n",
    "    * Removing stopwords\n",
    "    * removing punctuation and non ASCII characters\n",
    "    * Removing less frequenct words and creating a word to index mapping dict(non-frequent words are mapped to token-UNK)\n",
    "    \n",
    "* baseline: LSTM\n",
    "    * Does not perform well with sequential data as it takes one input at a time\n",
    "    * Takes longer to train\n",
    "    \n",
    "* xlm-roberta-base\n",
    "    * XLM-RoBERTa is a multilingual version of RoBERTa. It is pre-trained on 2.5TB of filtered CommonCrawl data containing 100 languages.RoBERTa is a transformers model pretrained on a large corpus in a self-supervised fashion with the Masked language modeling (MLM) objective. Taking a sentence, the model randomly masks 15% of the words in the input then run the entire masked sentence through the model and has to predict the masked words. \n"
   ]
  },
  {
   "cell_type": "code",
   "execution_count": null,
   "id": "7c5e9c02",
   "metadata": {},
   "outputs": [],
   "source": []
  }
 ],
 "metadata": {
  "hide_input": false,
  "kernelspec": {
   "display_name": "Python 3",
   "language": "python",
   "name": "python3"
  },
  "language_info": {
   "codemirror_mode": {
    "name": "ipython",
    "version": 3
   },
   "file_extension": ".py",
   "mimetype": "text/x-python",
   "name": "python",
   "nbconvert_exporter": "python",
   "pygments_lexer": "ipython3",
   "version": "3.8.12"
  }
 },
 "nbformat": 4,
 "nbformat_minor": 5
}
